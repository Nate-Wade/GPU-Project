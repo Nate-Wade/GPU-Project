{
 "cells": [
  {
   "cell_type": "markdown",
   "id": "1ad69dd9",
   "metadata": {},
   "source": [
    "# How Graphical Processing Unit Specifications Influence Gaming Performance"
   ]
  },
  {
   "cell_type": "markdown",
   "id": "44f4ef72",
   "metadata": {},
   "source": [
    "### 1. Introduction  \n",
    "\n",
    "The relationship between hardware and gaming performance is inherently complex, shaped by multiple factors including hardware specifications, display resolution, graphical settings, and the characteristics of individual games. Within the hardware domain, both the central processing unit (CPU) and the graphics processing unit (GPU) contribute significantly to performance outcomes. However, the GPU plays the dominant role in modern gaming, as it is primarily responsible for rendering complex visuals and executing parallelized computations required for real-time graphics.\n",
    "\n",
    "This study isolates the GPU and investigates how its technical specifications influence frames per second (FPS), a common measure of gaming performance. By focusing on GPU-level features, the analysis aims to clarify the specific contribution of graphics hardware while controlling for the broader complexity of full system configurations."
   ]
  },
  {
   "cell_type": "markdown",
   "id": "e45f05d4",
   "metadata": {},
   "source": [
    "### 2. Research Question"
   ]
  },
  {
   "cell_type": "markdown",
   "id": "9c82e3c6",
   "metadata": {},
   "source": [
    "How do GPU specifications influence gaming performance (FPS), and how does this relationship change across different resolutions and graphics settings?"
   ]
  },
  {
   "cell_type": "markdown",
   "id": "26510e23",
   "metadata": {},
   "source": [
    "### 3. Data and Features"
   ]
  },
  {
   "cell_type": "markdown",
   "id": "806ea488",
   "metadata": {},
   "source": [
    "The dataset used in this analysis includes GPU hardware specifications alongside measured FPS values across multiple games, resolutions, and graphical settings. FPS benchmarks were derived from https://www.kaggle.com/datasets/baraazaid/gpus-fps-on-games?resource=download and the hardware specifications were scraped from https://www.techpowerup.com/.\n",
    "\n",
    "- Hardware Features (continuous variables)\n",
    "    - Process Size  \n",
    "    - Transistors  \n",
    "    - Density  \n",
    "    - Die_size  \n",
    "    - Base Clock  \n",
    "    - Memory Size  \n",
    "    - Memory Type  \n",
    "    - Memory Bus  \n",
    "    - Bandwidth  \n",
    "    - Shading Units  \n",
    "    - Texture Mapping Units (TMUS)\n",
    "    - Render Output Units (ROPs)  \n",
    "    - L1_cache  \n",
    "    - L2_cache  \n",
    "    - Directx  \n",
    "    - Thermal Design Power (TDP)  \n",
    "    - Memory Clock  \n",
    "    - Fp32  \n",
    "    - Fp64  \n",
    "    - Pixel Rate  \n",
    "    - Texture Rate  \n",
    "\n",
    "- Categorical Features\n",
    "    - Architecture (build type)\n",
    "    - Memory Type\n",
    "    - Game Title\n",
    "    - Grapic Setting (low, med, high, ultra)\n",
    "    - Resolution (e.g. 1920x1080)\n",
    "\n",
    "- Target Variable (continious)\n",
    "    - Average Frames Per Second (Hz)"
   ]
  },
  {
   "cell_type": "markdown",
   "id": "cbcd3602",
   "metadata": {},
   "source": [
    "### 4. Preprocessing and Feature Engineering"
   ]
  },
  {
   "cell_type": "markdown",
   "id": "69d50f98",
   "metadata": {},
   "source": [
    "1. **Raw Data Sources**\n",
    "    - **Hardware Specifications Table**\n",
    "        - Raw data scraped for each unique GPU Name found in the FPS Benchmark dataset\n",
    "        - Data stored in a dictionary with one entry per GPU and its corresponding specifications\n",
    "    - **Benchmark FPS Table**\n",
    "        - Downloaded raw json from Kaggle\n",
    "\n",
    "2. **Feature Selection and Cleaning per Table**\n",
    "    - **Hardware Specifications**\n",
    "        - Removed several unwanted features (kept relavant performance modeling features)\n",
    "        - Extracted units from all columns and attached to column headers\n",
    "        - Converted all numeric columns to float\n",
    "    - **Benchmark FPS Table**\n",
    "        - Extracted unique GPU Names \n",
    "        - Included meaningful variables (*GPU_Name*, *Game_Name*, *Avg_FPS*, *Setting*, *Resolution*)\n",
    "        - GPU Name set as index with one entry for each combination of (*Game_Name* X *Setting* X *Resolution*) with *Avg_FPS* listed\n",
    "        - ~820 observations for each GPU\n",
    "\n",
    "3. **Merging Tables**\n",
    "    - Inner joined hardware specifications table on benchmark table\n",
    "    - Set GPU Name as the index\n",
    "\n",
    "4. **Feature Engineering**\n",
    "    - Kept categorical variables (*architecture*, *memory_type*, *Game_Name*, *Resolution*, *Setting*) as strings\n",
    "    - Limited *architecture* and *memory type* to the top 5 most common entries with all others grouped together as \"other\"\n",
    "    - Categorized separate feature lists for analysis\n",
    "        - Numerical hardware features\n",
    "        - Categorical hardware features\n",
    "        - Software features (*Resolution*, *Setting*)\n",
    "        - All hardware features\n",
    "        - All features\n",
    "    - Applied one-hot encoding for categorical variables\n",
    "    - Dropped Avg_FPS (outcome variable) from predictors\n",
    "    - Dropped Game_Name from predictors\n",
    "        - The focus was to analyze how hardware specifications, *resolution*, and *setting* are correlated with performance"
   ]
  },
  {
   "cell_type": "markdown",
   "id": "182800d2",
   "metadata": {},
   "source": [
    "### 5. Model Training"
   ]
  },
  {
   "cell_type": "markdown",
   "id": "85007648",
   "metadata": {},
   "source": [
    "1. **Train/Test Splitting**\n",
    "    - The merged dataset was split into training (80%) and test (20%) subsets. StandScalar was applied to ensure balanced representation of variables\n",
    "\n",
    "2. **Modeling Approaches**\n",
    "    - Two model families were evaluated: \n",
    "        - Linear regression as a baseline \n",
    "        - XGBoost as a non-linear, tree-based model to capture more complex feature interactions\n",
    "\n",
    "3. **Hyperparameter Optimization**\n",
    "    - The Linear model was used in its default form\n",
    "    - Hyperparameters for the XGBoost model (e.g., learning rate, depth, subsampling) were tuned using five-fold randomized cross-validation\n",
    "\n",
    "3. **Evaluation Metrics**\n",
    "    - Model performance was assessed on the test set using R² and mean squared error (MSE)\n",
    "    - To enhance interpretability, feature importance rankings were generated for both models\n",
    "    - SHAP values were used to quantify each feature’s contribution to FPS predictions"
   ]
  },
  {
   "cell_type": "markdown",
   "id": "11522e5f",
   "metadata": {},
   "source": [
    "### 6. Analysis"
   ]
  },
  {
   "cell_type": "markdown",
   "id": "b7cf65a6",
   "metadata": {},
   "source": [
    "The analysis was structured to evaluate how different subsets of features influenced predictive performance and then view them all together. For each subset, results are reported for both the baseline linear regression model and the XGBoost model, allowing for direct comparison between linear and non-linear approaches.\n",
    "\n",
    "1. **Hardware Specifications (*Resolution* and *Setting* omitted)**\n",
    "    - This feature set included all numerical hardware variables as well as categorical descriptors such as architecture and memory_type. When trained on this subset, both models produced similar results, with R² values of 0.4132 for linear regression and 0.4241 for XGBoost. These outcomes suggest that hardware specifications alone provide a moderate but incomplete explanation of FPS performance.\n",
    "    - However, the linear regression and XG Boost models ranked predictors differently. More specifically, the linear regression labeled the categorical predictors as more important whereas the XG Boost dedicated the majority of the importance to *pixel_rate* and *fp32* (as seen in the overall analysis later).\n",
    "\n",
    "    ![Feature importance for hardware-only model](images/lin_reg_cof_hardware.png)  \n",
    "   *Figure 1. Feature importances (Linear Regression) for hardware-only features, highlighting memory types, architecture types, and fp64 as the most predictive.*  \n",
    "\n",
    "    ![Feature importance for hardware-only model](images/xg_boost_importance_hardware.png)  \n",
    "   *Figure 2. Feature importances (XGBoost) for hardware-only features, highlighting pixel_rate and fp32 as the most predictive.*  \n",
    "\n",
    "2. **Game_Name only**\n",
    "    - Because FPS outcomes are also dependent on the computational demands of individual games, the predictive value of Game_Name was analyzed independently. Using this feature alone, the models achieved R² values of 0.1854 (Linear Regression) and 0.1790 (XG Boost), indicating that while game identity contributes to FPS variance, it is insufficient as a standalone predictor. While *Game_Name* explains sufficient variabilty in *FPS*, it would likely dilute the contribution of hardware specifications and the objective of the project.\n",
    "\n",
    "3. **Overall Analysis (Hardware features + *Resolution* + *Setting*)**\n",
    "    - The linear regression model was able to capture a substantial portion of the variance in FPS, achieving an R² value of 0.6236. This indicates that hardware specifications, resolution, and setting collectively explain over 60% of the observed variability, marking a significant improvement over using hardware or game identity alone.\n",
    "    - The XGBoost model provided a stronger fit. With default parameters, XGBoost achieved an R² of 0.7007, outperforming linear regression by an absolute margin of nearly 0.08 (eight percentage points), which corresponds to a relative improvement of about 16.7%. After hyperparameter tuning, the R² improved slightly further to 0.7034, suggesting that most of the performance gains were realized even before tuning.\n",
    "    - These results highlight two important findings: \n",
    "        - First, that combining hardware and context-related features substantially improves predictive accuracy.\n",
    "        - Second, that tree-based models such as XGBoost are more effective than linear models at capturing complex, non-linear relationships in the data. Nonetheless, the relatively small gain from tuning suggests that the model is already approaching the ceiling imposed by the available features, leaving some variance unexplained by hardware and resolution alone.\n",
    "    - While *Game_Name* alone yielded a modest R² of ≈0.18, its inclusion contributes substantial explanatory power by accounting for the strong game-specific effects on FPS. Removing it would dilute this contribution of hardware specifications which is the premise of the study.\n",
    "\n",
    "4. **Model Interpretability (SHAP analysis)**\n",
    "    - To better understand the drivers of FPS predictions in the tuned XGBoost model, SHAP (SHapley Additive exPlanations) analysis was conducted.\n",
    "    - **Global Feature Importance**\n",
    "        - A bar chart of mean absolute SHAP values (Figure 3) showed that setting, resolution, pixel_rate, fp32 throughput, transistor count, and TDP were the strongest contributors to model predictions. The prominence of setting and resolution is intuitive, given their direct role in FPS performance. More notable are the hardware-related factors—particularly pixel_rate, fp32 throughput, and transistors—which highlight the importance of raw computational power and energy capacity in explaining frame rate variability.\n",
    "        \n",
    "    ![SHAP Values XG Boost](images/xg_boost_SHAP_bar.png)  \n",
    "   *Figure 3. Mean absolute SHAP values for the tuned XGBoost model, showing the strongest global contributors.*  \n",
    "\n",
    "    - **Distribution of Contributions**\n",
    "        - In the SHAP beeswarm plot (figure 4), *pixel_rate* and *fp32* throughput show wide variability across samples, indicating that their influence on FPS is highly context-dependent. For instance, they may dominate predictions at some resolutions or settings but contribute less in others. Conversely, *TDP* exhibits narrower SHAP distributions, suggesting that while it may not always be the single most important feature, it provides a steady and consistent contribution to FPS prediction across all contexts.\n",
    "\n",
    "    ![SHAP Values XG Boost](images/xg_boost_SHAP_beeswarm.png)  \n",
    "   *Figure 4. SHAP beeswarm plot for the tuned XGBoost model, showing the distribution of feature contributions across observations.*  \n",
    "\n",
    "5. **Contextual Trends by Resolution and Setting**\n",
    "    - To examine how hardware contributions shift under different usage contexts, SHAP values were aggregated by *Resolution* and *Setting*. These trend plots (Figures 5 and 6) highlight both the *magnitude* (mean |SHAP|) and *direction* (signed SHAP) of feature effects.\n",
    "\n",
    "    - **Resolution trends**\n",
    "        - *pixel_rate*, *fp32 throughput*, and *transistors* dominate overall importance. However, directionally, *pixel_rate* is less important at *1920x1080*\n",
    "        - In directional importance, features peak around **3440×1440** (primarily *pixel_rate*, *fp32*, and *transistors*) and then decline at **4K**, suggesting a saturation/bottleneck where other resources (e.g., CPU) limit further gains.\n",
    "        - Signed SHAP values indicate the strongest positive contributions from GPU specs at mid–high resolutions, with weaker and more variable effects at **4K**.\n",
    "\n",
    "    - **Setting trends**\n",
    "        - From *low → ultra*, the relative importance of *pixel_rate**, *fp32 throughput*, *transistors* steadily **declines**.\n",
    "        - Broader capacity indicators—*transistor count* and *TDP*—remain **consistently important** at higher settings, helping sustain performance under heavier workloads.\n",
    "        - Directional (signed) SHAP effects remain relatively **stable** across settings, implying that high settings distribute demand more evenly across multiple hardware components.\n",
    "\n",
    "    - **Summary**\n",
    "        - Resolution produces more pronounced shifts in feature importance than graphical setting.\n",
    "        - Across all contexts, *pixel_rate*, *fp32 throughput*, and *transistors* are consistently among the strongest predictors.\n",
    "        - At higher resolutions, these features show signs of diminishing returns, while broader capacity measures such as *TDP* maintain steady contributions.\n",
    "        - Overall, the analysis suggests that FPS performance is shaped primarily by hardware throughput features, with resolution and setting acting as key moderators of their relative influence.\n",
    "\n",
    "    ![SHAP Values XG Boost](images/xg_boost_SHAP_MA_lines.png)  \n",
    "   *Figure 5. Mean absolute SHAP values aggregated by resolution (left) and setting (right)*  \n",
    "    ![SHAP Values XG Boost](images/xg_boost_avg_importance_line.png)  \n",
    "   *Figure 6. Mean SHAP values aggregated by resolution (left) and setting (right)* "
   ]
  },
  {
   "cell_type": "markdown",
   "id": "66c99c1a",
   "metadata": {},
   "source": [
    "### 6. Limitations"
   ]
  },
  {
   "cell_type": "markdown",
   "id": "c294c01f",
   "metadata": {},
   "source": [
    "1. **Feature Selection**\n",
    "\n",
    "    - Although the combined model explained approximately 70% of FPS variance, a significant share of the remaining variation is attributable to Game_Name. This variable was excluded to align with the research question, which focused on hardware components rather than game-specific effects. However, omitting it inevitably limited the maximum achievable performance and reduced model explainability. Future work could explore encoding game-level characteristics (e.g., engine type, graphics API, average draw calls) as generalized features that preserve comparability across titles without relying on Game_Name as a single dominant predictor. This would prevent one variable from disproportionately driving FPS variance.\n",
    "\n",
    "2. **Data Availability**\n",
    "    - Within the hardware specifications dataset, several GPUs had missing values for certain components. As a result, features such as tensor cores and CUDA were excluded, even though they may have influenced performance outcomes. Additionally, the dataset was restricted to the top 200 most popular GPUs and did not include the most recent hardware generations (e.g., NVIDIA 5000 series). This reduced both the completeness and the generalizability of the model, limiting its applicability to future GPU architectures.\n",
    "\n",
    "3. **Additional Factors**\n",
    "    - Real-world FPS performance depends on variables outside the dataset, such as CPU bottlenecks, driver optimization, thermal conditions, and system-level processes. These factors were not captured, meaning the models do not fully reflect actual gaming performance under diverse real-world conditions. Moreover, as hardware and games evolve rapidly, the relevance of these models may degrade without continual updates."
   ]
  },
  {
   "cell_type": "markdown",
   "id": "e7227771",
   "metadata": {},
   "source": [
    "### 7. Conclusion"
   ]
  },
  {
   "cell_type": "markdown",
   "id": "b704fe8a",
   "metadata": {},
   "source": [
    "This analysis investigated the relationship between GPU hardware features and FPS performance across different resolutions and settings. By excluding Game_Name, the study narrowed its focus to hardware-driven effects. Linear regression explained 62% of FPS variance, while XGBoost improved this to 70%, underscoring the benefits of non-linear modeling. SHAP analysis revealed that resolution, setting, pixel rate, fp32 throughput, and transistor count were the dominant contributors to performance.\n",
    "\n",
    "These results demonstrate that while hardware and context account for most FPS variability, a portion remains unexplained—reflecting the influence of game-level and system-level factors. Although the exclusion of Game_Name limited predictive performance, it clarified the relative importance of hardware features, which was the central research question. Future work should incorporate richer game-level descriptors, expand coverage to newer GPUs, and consider CPU–GPU interactions to improve predictive accuracy and generalizability.\n",
    "\n",
    "Importantly, the contextual SHAP analysis showed that the predictability of hardware specifications depends strongly on resolution and setting. At higher resolutions, throughput-related features (*pixel_rate*, *fp32*) diminish in relative importance as broader capacity measures like transistors and TDP take on a greater role. Across settings, hardware contributions shift more gradually, with demanding settings distributing importance more evenly across multiple features. This highlights that hardware does not operate in isolation; its predictive power is mediated by the demands of the resolution and graphical settings in use."
   ]
  }
 ],
 "metadata": {
  "kernelspec": {
   "display_name": "Python 3",
   "language": "python",
   "name": "python3"
  },
  "language_info": {
   "name": "python",
   "version": "3.13.1"
  }
 },
 "nbformat": 4,
 "nbformat_minor": 5
}
