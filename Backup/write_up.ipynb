{
 "cells": [
  {
   "cell_type": "markdown",
   "id": "1ad69dd9",
   "metadata": {},
   "source": [
    "# How GPU Specifications Influence Gaming Performance"
   ]
  },
  {
   "cell_type": "markdown",
   "id": "44f4ef72",
   "metadata": {},
   "source": [
    "### 1. Introduction  \n",
    "\n",
    "The relationship between hardware and gaming performance is inherently complex, shaped by multiple factors including hardware specifications, display resolution, graphical settings, and the characteristics of individual games. Within the hardware domain, both the central processing unit (CPU) and the graphics processing unit (GPU) contribute significantly to performance outcomes. However, the GPU plays the dominant role in modern gaming, as it is primarily responsible for rendering complex visuals and executing the parallelized computations required for real-time graphics.\n",
    "\n",
    "This study isolates the GPU and investigates how its technical specifications influence frames per second (FPS), a common measure of gaming performance. By focusing on GPU-level features, the analysis aims to clarify the specific contribution of graphics hardware while controlling for the broader complexity of full system configurations."
   ]
  },
  {
   "cell_type": "markdown",
   "id": "9c82e3c6",
   "metadata": {},
   "source": [
    "### 2. Research Question\n",
    "\n",
    "    How do GPU specifications influence gaming performance (FPS), and how does this relationship change across different resolutions and graphics settings?"
   ]
  },
  {
   "cell_type": "markdown",
   "id": "26510e23",
   "metadata": {},
   "source": [
    "### 3. Data and Features"
   ]
  },
  {
   "cell_type": "markdown",
   "id": "806ea488",
   "metadata": {},
   "source": [
    "The dataset used in this analysis includes GPU hardware specifications alongside measured FPS values across multiple games, resoultions, and graphical settings. FPS benchmarks were derived from https://www.kaggle.com/datasets/baraazaid/gpus-fps-on-games?resource=download and the hardware specifications were scraped from https://www.techpowerup.com/.\n",
    "\n",
    "- Hardware Features (continuous variables)\n",
    "    - Process Size  \n",
    "    - Transistors  \n",
    "    - Density  \n",
    "    - Die_size  \n",
    "    - Base Clock  \n",
    "    - Memory Size  \n",
    "    - Memory Type  \n",
    "    - Memory Bus  \n",
    "    - Bandwidth  \n",
    "    - Shading Units  \n",
    "    - Texture Mapping Units (TMUS)\n",
    "    - Render Output Units (ROPs)  \n",
    "    - L1_cache  \n",
    "    - L2_cache  \n",
    "    - Directx  \n",
    "    - Thermal Design Power (TDP)  \n",
    "    - Memory Clock  \n",
    "    - Fp32  \n",
    "    - Fp64  \n",
    "    - Pixel Rate  \n",
    "    - Texture Rate  \n",
    "\n",
    "- Categorical Features\n",
    "    - Architecture (build type)\n",
    "    - Memory Type\n",
    "    - Game Title\n",
    "    - Grapic Setting (low, med, high, ultra)\n",
    "    - Resolution (e.g. 1920x1080)\n",
    "\n",
    "- Target Variable (continious)\n",
    "    - Average Frames Per Second (Hz)"
   ]
  },
  {
   "cell_type": "markdown",
   "id": "cbcd3602",
   "metadata": {},
   "source": [
    "### 4. Preprocessing and Feature Engineering"
   ]
  },
  {
   "cell_type": "markdown",
   "id": "69d50f98",
   "metadata": {},
   "source": [
    "1. **Raw Data Sources**\n",
    "    - **Hardware Specifications Table**\n",
    "        - Raw data scraped for each GPU Name in the FPS Benchmark dataset\n",
    "        - Data stored in a dictionary with one entry per GPU and corresponding specifications\n",
    "    - **Benchmark FPS Table**\n",
    "        - Downloaded raw json from Kaggle\n",
    "\n",
    "2. **Feature Selection and Cleaning per Table**\n",
    "    - **Hardware Specifications**\n",
    "        - Removed several unwanted features (kept relavant performance modeling features)\n",
    "        - Extracted units from all columns and attached to column headers\n",
    "        - Converted all numeric columns to float\n",
    "    - **Benchmark FPS Table**\n",
    "        - Extracted unique GPU Names \n",
    "        - Included meaningful variables (*GPU_Name*, *Game_Name*, *Avg_FPS*, *Setting*, *Resolution*)\n",
    "        - GPU Name set as index with one entry for each combination of (*Game_Name* X *Setting* X *Resolution*) with *Avg_FPS* listed\n",
    "        - ~820 observations for each GPU\n",
    "\n",
    "3. **Merging Tables**\n",
    "    - Inner joined hardware specifications table on benchmark table\n",
    "    - Set GPU Name as the index\n",
    "\n",
    "4. **Feature Engineering**\n",
    "    - Kept categorical variables (*architecture*, *memory_type*, *Game_Name*, *Resolution*, *Setting*) as strings\n",
    "    - Limited *architecture* and *memory type* to the top 5 most common with all others grouped as \"other\"\n",
    "    - Categorized separate feature lists\n",
    "        - Numerical hardware features\n",
    "        - Categorical hardware features\n",
    "        - Software features (*Resolution*, *Setting*)\n",
    "        - All hardware features\n",
    "        - All features\n",
    "    - Applied one-hot encoding for categorical variables\n",
    "    - Dropped Avg_FPS (outcome variable) from predictors\n",
    "    - Dropped Game_Name from predictors\n",
    "        - The focus was to analyze how hardware specifications, *resolution*, and *setting* are correlated with performance"
   ]
  },
  {
   "cell_type": "markdown",
   "id": "182800d2",
   "metadata": {},
   "source": [
    "### 5. Model Training"
   ]
  },
  {
   "cell_type": "markdown",
   "id": "85007648",
   "metadata": {},
   "source": [
    "1. **Train/Test Splitting**\n",
    "    - The merged dataset was split into training (80%) and test (20%) subsets. StandScalar was applied to ensure balanced representation of variables\n",
    "\n",
    "2. **Modeling Approaches**\n",
    "    - Two model families were evaluated: \n",
    "    - linear regression as a baseline \n",
    "    - XGBoost as a non-linear, tree-based model robust to feature interactions\n",
    "\n",
    "3. **Hyperparameter Optimization**\n",
    "    - Hyperparameters for the XGBoost model (e.g., learning rate, depth, subsampling) were tuned using five-fold randomized cross-validation on the training set\n",
    "    - The linear model was used in its default form\n",
    "\n",
    "3. **Evaluation Metrics**\n",
    "    - Model performance was assessed on the test set using R² and mean squared error (MSE)\n",
    "    - To enhance interpretability, feature importance rankings were generated for tree-based models\n",
    "    - SHAP values were used to quantify each feature’s contribution to FPS predictions"
   ]
  },
  {
   "cell_type": "markdown",
   "id": "11522e5f",
   "metadata": {},
   "source": [
    "### 6. Analysis"
   ]
  },
  {
   "cell_type": "markdown",
   "id": "b7cf65a6",
   "metadata": {},
   "source": [
    "The analysis was structured to evaluate how different subsets of features influenced predictive performance. For each subset, results are reported for both the baseline linear regression model and the XGBoost model, allowing for direct comparison between linear and non-linear approaches.\n",
    "\n",
    "1. **Hardware Specifications only**\n",
    "    - This feature set included all numerical hardware variables as well as categorical descriptors such as architecture and memory_type. When trained on this subset, both models produced similar results, with R² values of 0.4132 for linear regression and 0.4241 for XGBoost. These outcomes suggest that hardware specifications alone provide a moderate but incomplete explanation of FPS performance.\n",
    "\n",
    "    ![Feature importance for hardware-only model](images/lin_reg_cof_hardware.png)  \n",
    "   *Figure 1. Feature importances (Linear Regression) for hardware-only features, highlighting memory types, architecture types, and fp64 as the most predictive.*  \n",
    "\n",
    "    ![Feature importance for hardware-only model](images/xg_boost_importance_hardware.png)  \n",
    "   *Figure 2. Feature importances (XGBoost) for hardware-only features, highlighting pixel_rate and fp32 as the most predictive.*  \n",
    "\n",
    "2. **Game_Name only**\n",
    "    - Because FPS outcomes are also dependent on the computational demands of individual games, the predictive value of Game_Name was analyzed independently. Using this feature alone, the models achieved R² values of 0.1854 (Linear Regression) and 0.1790 (XG Boost), indicating that while game identity contributes to FPS variance, it is insufficient as a standalone predictor. So for the scope of this question, this variable was dropped in the overall analysis.\n",
    "\n",
    "3. **Overall Analysis (All features except Game_Name)**\n",
    "    - The linear regression model was able to capture a substantial portion of the variance in FPS, achieving an R² value of 0.6236. This indicates that hardware specifications, resolution, and setting collectively explain over 60% of the observed variability, marking a significant improvement over using hardware or game identity alone.\n",
    "    - The XGBoost model provided a stronger fit. With default parameters, XGBoost achieved an R² of 0.7007, outperforming linear regression by nearly eight percentage points. After hyperparameter tuning, the R² improved slightly further to 0.7034, suggesting that most of the performance gains were realized even before tuning.\n",
    "    - These results highlight two important findings: first, that combining hardware and context-related features substantially improves predictive accuracy, and second, that tree-based models such as XGBoost are more effective than linear models at capturing complex, non-linear relationships in the data. Nonetheless, the relatively small gain from tuning suggests that the model is already approaching the ceiling imposed by the available features, leaving some variance unexplained by hardware and resolution alone.\n",
    "    - While Game_Name alone produced only limited predictive power (R² ≈ 0.18), excluding it from the overall feature set leaves roughly 18% of variance unexplained. This reflects the fact that FPS is highly game-dependent, and omitting game identity inevitably reduces the model’s ability to fully capture performance differences across titles.\n",
    "\n",
    "4. **Model Interpretability (SHAP analysis)**\n",
    "    - To better understand the drivers of FPS predictions in the tuned XGBoost model, SHAP (SHapley Additive exPlanations) analysis was conducted.\n",
    "    - **Global Feature Importance**\n",
    "        - A bar chart of mean absolute SHAP values (Figure 3) showed that setting, resolution, pixel_rate, fp32 throughput, transistor count, and TDP were the strongest contributors to model predictions. The prominence of setting and resolution is intuitive, given their direct role in FPS performance. More notable are the hardware-related factors—particularly fp32 throughput, transistors, and TDP—which highlight the importance of raw computational power and energy capacity in explaining frame rate variability.\n",
    "    ![SHAP Values XG Boost](images/xg_boost_SHAP_bar.png)  \n",
    "   *Figure 3. Mean absolute SHAP values for the tuned XGBoost model, showing the strongest global contributors.*  \n",
    "\n",
    "    - **Distribution of Contributions**\n",
    "        - The SHAP beeswarm plot (Figure 4) complements the global ranking by illustrating the spread of feature effects across individual samples. Features such as pixel_rate and fp32 throughput exhibit wide variation, indicating strong context-dependent effects. In contrast, features like TDP show more stable contributions, reinforcing their consistent role in performance prediction.\n",
    "\n",
    "    ![SHAP Values XG Boost](images/xg_boost_SHAP_beeswarm.png)  \n",
    "   *Figure 4. SHAP beeswarm plot for the tuned XGBoost model, showing the distribution of feature contributions across observations.*  \n",
    "\n",
    "    - **Contextual Trends by Resolution and Setting**\n",
    "        - - To explore how feature importance changes under different usage contexts, SHAP values were averaged across Resolution and Setting categories. This produced trend plots (Figures 5 and 6) that highlight systematic shifts in predictive drivers.\n",
    "        - **Resolution Trends**\n",
    "            - At lower resolutions (1920×1080), pixel_rate and fp32 throughput are the dominant contributors to FPS prediction. As resolution increases, the importance of transistors and TDP rises, reflecting the growing computational and energy demands at higher pixel densities. Interestingly, pixel_rate peaks at 3440×1440 before declining at 4K, suggesting a bottleneck effect where other resources become limiting.\n",
    "        - **Settings Trends**\n",
    "            - Across graphical settings (low → ultra), the importance of pixel_rate and fp32 throughput steadily declines. This suggests that at more demanding settings, raw compute throughput alone is insufficient; instead, aggregate hardware capacity (transistors, TDP) plays a stronger role.\n",
    "\n",
    "    ![SHAP Values XG Boost](images/xg_boost_SHAP_MA_lines.png)  \n",
    "   *Figure 5. Mean absolute SHAP values aggregated by resolution (left) and setting (right)*  \n"
   ]
  }
 ],
 "metadata": {
  "kernelspec": {
   "display_name": "Python 3",
   "language": "python",
   "name": "python3"
  },
  "language_info": {
   "name": "python",
   "version": "3.13.1"
  }
 },
 "nbformat": 4,
 "nbformat_minor": 5
}
